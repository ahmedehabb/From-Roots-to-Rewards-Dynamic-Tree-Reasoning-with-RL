{
 "cells": [
  {
   "cell_type": "code",
   "execution_count": 39,
   "metadata": {},
   "outputs": [
    {
     "name": "stdout",
     "output_type": "stream",
     "text": [
      "Sorted by Average Log Probability (Higher Confidence First):\n",
      "Child 1:\n",
      "  Question: Was the fiction magazine in which Robert E. Howard wrote in 1930s primarily Weird Tales magazine?\n",
      "  Average Log Probability: -0.2473070186871591\n",
      "\n",
      "Child 2:\n",
      "  Question: If the fiction magazine in which Robert E. Howard wrote in 1930s was primarily Weird Tales magazine, did he write in other magazines during that period as well?\n",
      "  Average Log Probability: -0.19588439125925886\n",
      "\n",
      "Child 3:\n",
      "  Question: What was the typical page count of other fiction magazines that Robert E. Howard wrote for during the 1930s?\n",
      "  Average Log Probability: -0.164074487662688\n",
      "\n",
      "Child 4:\n",
      "  Question: What was the typical page count of Weird Tales magazine during the 1930s?\n",
      "  Average Log Probability: -0.11352020478632333\n",
      "\n",
      "Child 5:\n",
      "  Question: Was Robert E. Howard a frequent contributor to Weird Tales magazine during the 1930s?\n",
      "  Average Log Probability: -0.036691326040235\n",
      "\n",
      "Child 6:\n",
      "  Question: If the fiction magazine in which Robert E. Howard wrote in 1930s was not primarily Weird Tales magazine, what was the typical page count of that magazine during the 1930s?\n",
      "  Average Log Probability: -0.02383297685385625\n",
      "\n"
     ]
    }
   ],
   "source": [
    "import numpy as np\n",
    "\n",
    "# Input data\n",
    "children = [\n",
    "    'What was the typical page count of Weird Tales magazine during the 1930s?', \n",
    "    'Was Robert E. Howard a frequent contributor to Weird Tales magazine during the 1930s?', \n",
    "    'Was the fiction magazine in which Robert E. Howard wrote in 1930s primarily Weird Tales magazine?', \n",
    "    'If the fiction magazine in which Robert E. Howard wrote in 1930s was primarily Weird Tales magazine, did he write in other magazines during that period as well?', \n",
    "    'If the fiction magazine in which Robert E. Howard wrote in 1930s was not primarily Weird Tales magazine, what was the typical page count of that magazine during the 1930s?', \n",
    "    'What was the typical page count of other fiction magazines that Robert E. Howard wrote for during the 1930s?'\n",
    "]\n",
    "children_sum_scores = [-2.04336368615382, -0.7338265208047, -5.4407544111175, -6.85595369407406, -0.95331907415425, -4.1018621915672]\n",
    "children_log_probs_lengths = [18, 20, 22, 35, 40, 25]\n",
    "\n",
    "# Calculate average log probability per token\n",
    "avg_log_probs = [sum_score / length for sum_score, length in zip(children_sum_scores, children_log_probs_lengths)]\n",
    "\n",
    "# Sort by average log probability (ascending order = higher confidence first)\n",
    "sorted_indices = np.argsort(avg_log_probs)\n",
    "sorted_children = [children[i] for i in sorted_indices]\n",
    "sorted_avg_log_probs = [avg_log_probs[i] for i in sorted_indices]\n",
    "\n",
    "# Print results\n",
    "print(\"Sorted by Average Log Probability (Higher Confidence First):\")\n",
    "for i, (child, avg_log_prob) in enumerate(zip(sorted_children, sorted_avg_log_probs)):\n",
    "    print(f\"Child {i+1}:\")\n",
    "    print(f\"  Question: {child}\")\n",
    "    print(f\"  Average Log Probability: {avg_log_prob}\")\n",
    "    print()"
   ]
  },
  {
   "cell_type": "code",
   "execution_count": null,
   "metadata": {},
   "outputs": [],
   "source": []
  },
  {
   "cell_type": "markdown",
   "metadata": {},
   "source": [
    "# Token level"
   ]
  },
  {
   "cell_type": "code",
   "execution_count": 38,
   "metadata": {},
   "outputs": [
    {
     "name": "stdout",
     "output_type": "stream",
     "text": [
      "Child 1:\n",
      "  Question: What was the typical page count of Weird Tales magazine during the 1930s?\n",
      "  Minimum Token Probability: -0.11352020478632333\n",
      "\n",
      "Child 2:\n",
      "  Question: Was Robert E. Howard a frequent contributor to Weird Tales magazine during the 1930s?\n",
      "  Minimum Token Probability: -0.036691326040235\n",
      "\n",
      "Child 3:\n",
      "  Question: Was the fiction magazine in which Robert E. Howard wrote in 1930s primarily Weird Tales magazine?\n",
      "  Minimum Token Probability: -0.2473070186871591\n",
      "\n",
      "Child 4:\n",
      "  Question: If the fiction magazine in which Robert E. Howard wrote in 1930s was primarily Weird Tales magazine, did he write in other magazines during that period as well?\n",
      "  Minimum Token Probability: -0.19588439125925886\n",
      "\n",
      "Child 5:\n",
      "  Question: If the fiction magazine in which Robert E. Howard wrote in 1930s was not primarily Weird Tales magazine, what was the typical page count of that magazine during the 1930s?\n",
      "  Minimum Token Probability: -0.02383297685385625\n",
      "\n",
      "Child 6:\n",
      "  Question: What was the typical page count of other fiction magazines that Robert E. Howard wrote for during the 1930s?\n",
      "  Minimum Token Probability: -0.164074487662688\n",
      "\n"
     ]
    }
   ],
   "source": [
    "import numpy as np\n",
    "\n",
    "# Input data\n",
    "children = [\n",
    "    'What was the typical page count of Weird Tales magazine during the 1930s?', \n",
    "    'Was Robert E. Howard a frequent contributor to Weird Tales magazine during the 1930s?', \n",
    "    'Was the fiction magazine in which Robert E. Howard wrote in 1930s primarily Weird Tales magazine?', \n",
    "    'If the fiction magazine in which Robert E. Howard wrote in 1930s was primarily Weird Tales magazine, did he write in other magazines during that period as well?', \n",
    "    'If the fiction magazine in which Robert E. Howard wrote in 1930s was not primarily Weird Tales magazine, what was the typical page count of that magazine during the 1930s?', \n",
    "    'What was the typical page count of other fiction magazines that Robert E. Howard wrote for during the 1930s?'\n",
    "]\n",
    "children_sum_scores = [-2.04336368615382, -0.7338265208047, -5.4407544111175, -6.85595369407406, -0.95331907415425, -4.1018621915672]\n",
    "children_log_probs_lengths = [18, 20, 22, 35, 40, 25]\n",
    "\n",
    "# Calculate minimum token probability for each child\n",
    "min_token_probs = [sum_score / length for sum_score, length in zip(children_sum_scores, children_log_probs_lengths)]\n",
    "\n",
    "# Print results\n",
    "for i, (child, min_token_prob) in enumerate(zip(children, min_token_probs)):\n",
    "    print(f\"Child {i+1}:\")\n",
    "    print(f\"  Question: {child}\")\n",
    "    print(f\"  Minimum Token Probability: {min_token_prob}\")\n",
    "    print()"
   ]
  },
  {
   "cell_type": "code",
   "execution_count": null,
   "metadata": {},
   "outputs": [],
   "source": []
  }
 ],
 "metadata": {
  "kernelspec": {
   "display_name": "advanced_nlp",
   "language": "python",
   "name": "python3"
  },
  "language_info": {
   "codemirror_mode": {
    "name": "ipython",
    "version": 3
   },
   "file_extension": ".py",
   "mimetype": "text/x-python",
   "name": "python",
   "nbconvert_exporter": "python",
   "pygments_lexer": "ipython3",
   "version": "3.12.8"
  }
 },
 "nbformat": 4,
 "nbformat_minor": 2
}
